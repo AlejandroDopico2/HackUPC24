{
 "cells": [
  {
   "cell_type": "code",
   "metadata": {
    "ExecuteTime": {
     "end_time": "2024-05-05T04:40:14.342160Z",
     "start_time": "2024-05-05T04:40:14.302416Z"
    }
   },
   "source": [
    "import torch\n",
    "from torchvision.models import mobilenet_v3_small, MobileNet_V3_Small_Weights\n",
    "from torchvision.transforms import transforms\n",
    "import torch.nn as nn\n",
    "import os\n",
    "import numpy as np\n",
    "from sklearn.cluster import KMeans\n",
    "from tqdm import tqdm\n",
    "from PIL import Image\n",
    "from sklearn.decomposition import PCA\n",
    "\n",
    "class FeatureExtractor:\n",
    "    def __init__(self):\n",
    "        self.net = mobilenet_v3_small(weights=MobileNet_V3_Small_Weights.DEFAULT)\n",
    "        self.net = nn.Sequential(*list(self.net.children())[:-1])\n",
    "\n",
    "        self.net.eval()\n",
    "\n",
    "        self.transforms = transforms.Compose(\n",
    "            [\n",
    "                transforms.Resize((224, 224)),\n",
    "                transforms.ToTensor(),\n",
    "                transforms.Normalize(\n",
    "                    mean=[0.485, 0.456, 0.406], std=[0.229, 0.224, 0.225]\n",
    "                ),\n",
    "            ]\n",
    "        )\n",
    "\n",
    "        self.pca = PCA(n_components=64)\n",
    "\n",
    "    def transform(self, X):\n",
    "        return self.transforms(X)\n",
    "    \n",
    "    def fit_pca(self, X):\n",
    "        self.pca.fit(X)\n",
    "\n",
    "    def transform_pca(self, X):\n",
    "        return self.pca.transform(X)\n",
    "\n",
    "    def __call__(self, X):\n",
    "        X = torch.stack(X)\n",
    "\n",
    "        with torch.no_grad():\n",
    "            features = self.net(X)\n",
    "\n",
    "        features = torch.mean(features, axis=[2, 3])\n",
    "\n",
    "        return features.squeeze().numpy()  # Cast to numpy array\n",
    "\n",
    "\n",
    "def compute_embeddings(model, image_files, batch_size=8):\n",
    "    \"\"\"Compute embeddings for all images in batches using a given model and transformation.\"\"\"\n",
    "    embeddings = []\n",
    "\n",
    "    # Process images in batches\n",
    "    for i in tqdm(range(0, len(image_files), batch_size)):\n",
    "        batch_files = image_files[i : i + batch_size]\n",
    "        batch_images = [Image.open(img) for img in batch_files]\n",
    "\n",
    "        # Apply transformation and move to device\n",
    "        batch_transformed = [model.transform(img) for img in batch_images]\n",
    "        \n",
    "        features = model(batch_transformed)\n",
    "\n",
    "        # Append batch embeddings to the list\n",
    "        embeddings.append(features)\n",
    "\n",
    "    return np.concatenate(embeddings)"
   ],
   "outputs": [],
   "execution_count": 13
  },
  {
   "cell_type": "code",
   "metadata": {
    "ExecuteTime": {
     "end_time": "2024-05-05T04:45:11.724008Z",
     "start_time": "2024-05-05T04:44:41.607907Z"
    }
   },
   "source": [
    "\n",
    "# Load images from directory\n",
    "image_dir = \"../cluster_images/\"\n",
    "image_files = [os.path.join(image_dir, img) for img in os.listdir(image_dir)]\n",
    "\n",
    "net = FeatureExtractor()\n",
    "\n",
    "# Compute embeddings for all images\n",
    "embeddings = compute_embeddings(net, image_files)\n",
    "\n",
    "net.fit_pca(embeddings)\n",
    "\n",
    "embeddings = net.transform_pca(embeddings)"
   ],
   "outputs": [
    {
     "name": "stderr",
     "output_type": "stream",
     "text": [
      "100%|██████████| 125/125 [00:26<00:00,  4.71it/s]\n"
     ]
    }
   ],
   "execution_count": 15
  },
  {
   "cell_type": "code",
   "metadata": {
    "ExecuteTime": {
     "end_time": "2024-05-05T04:45:12.694608Z",
     "start_time": "2024-05-05T04:45:11.728583Z"
    }
   },
   "source": [
    "num_clusters = 1000\n",
    "kmeans = KMeans(n_clusters=num_clusters, random_state=0).fit(embeddings)\n",
    "print(kmeans.inertia_)\n",
    "\n",
    "centroids = kmeans.cluster_centers_\n",
    "labels = kmeans.labels_\n",
    "\n",
    "closest_images_to_centroid = {i: [] for i in range(num_clusters)}\n",
    "\n",
    "# Calcular la distancia de cada imagen al centroide de su cluster y guardar las más cercanas\n",
    "for i, label in enumerate(labels):\n",
    "    centroid = centroids[label]\n",
    "    embedding = embeddings[i]\n",
    "    distance = np.linalg.norm(embedding - centroid)  # Distancia Euclidiana\n",
    "    closest_images_to_centroid[label].append((i, distance))\n",
    "\n",
    "# Ordenar las imágenes más cercanas por distancia y seleccionar las más cercanas\n",
    "closest_images = {}\n",
    "for cluster, images_distances in closest_images_to_centroid.items():\n",
    "    images_distances.sort(key=lambda x: x[1])  # Ordenar por distancia\n",
    "    closest_images[cluster] = images_distances[0]  # Tomar la imagen más cercana (la de menor distancia)\n",
    "\n",
    "# Recuperar las imágenes más cercanas\n",
    "images_indices = [idx for idx, _ in closest_images.values()]\n",
    "closest_images_data = [image_files[idx] for idx in images_indices]  # 'your_images' es tu lista o array de imágenes\n"
   ],
   "outputs": [
    {
     "name": "stdout",
     "output_type": "stream",
     "text": [
      "0.0\n"
     ]
    }
   ],
   "execution_count": 16
  },
  {
   "cell_type": "code",
   "metadata": {
    "ExecuteTime": {
     "end_time": "2024-05-05T04:45:50.704862Z",
     "start_time": "2024-05-05T04:45:12.696127Z"
    }
   },
   "source": [
    "from PIL import Image\n",
    "import os\n",
    "\n",
    "# Directorio donde se guardarán las imágenes\n",
    "output_dir = 'closest_images'\n",
    "os.makedirs(output_dir, exist_ok=True)\n",
    "\n",
    "# Guardar las imágenes más cercanas a cada centroide\n",
    "for cluster, (idx, _) in closest_images.items():\n",
    "    img = image_files[idx]  # Obtener la imagen desde tu lista de imágenes\n",
    "    img = Image.open(img)  # Convertir a formato Image desde array (si es necesario)\n",
    "    img_path = os.path.join(output_dir, f'cluster_{cluster}_image_{idx}.png')\n",
    "    img.save(img_path)\n",
    "\n",
    "print(f\"Imágenes guardadas en '{output_dir}'\")\n"
   ],
   "outputs": [
    {
     "name": "stdout",
     "output_type": "stream",
     "text": [
      "Imágenes guardadas en 'closest_images'\n"
     ]
    }
   ],
   "execution_count": 17
  },
  {
   "cell_type": "code",
   "metadata": {
    "ExecuteTime": {
     "end_time": "2024-05-05T04:45:50.721165Z",
     "start_time": "2024-05-05T04:45:50.706860Z"
    }
   },
   "source": [
    "import numpy as np\n",
    "from sklearn.metrics import pairwise_distances_argmin_min\n",
    "\n",
    "def recommend_similar_images(model, image, embeddings, kmeans_model, num_recommendations=5):\n",
    "    \"\"\"\n",
    "    Recomienda imágenes similares a la imagen de entrada dentro del mismo cluster.\n",
    "    \n",
    "    Args:\n",
    "    - image: Imagen de entrada (array numpy).\n",
    "    - embeddings: Matriz de embeddings (características) de todas las imágenes.\n",
    "    - kmeans_model: Modelo K-means previamente entrenado.\n",
    "    - num_recommendations: Número de imágenes a recomendar (por defecto, 5).\n",
    "    \n",
    "    Returns:\n",
    "    - recommended_images: Lista de las imágenes recomendadas (arrays numpy).\n",
    "    \"\"\"\n",
    "    image_embedding = compute_embeddings(model, [image])\n",
    "\n",
    "    image_embedding = model.transform_pca([image_embedding])\n",
    "\n",
    "    image_embedding = image_embedding.astype(np.float32) \n",
    "\n",
    "    cluster = kmeans_model.predict(image_embedding.reshape(1, -1))[0]\n",
    "\n",
    "    cluster_indices = np.where(kmeans_model.labels_ == cluster)[0]\n",
    "\n",
    "    distances = pairwise_distances_argmin_min(image_embedding.reshape(1, -1), embeddings[cluster_indices])[1]\n",
    "\n",
    "    closest_indices = cluster_indices[np.argsort(distances)[:num_recommendations]]\n",
    "\n",
    "    recommended_images = [Image.open(image_files[idx]) for idx in closest_indices]\n",
    "\n",
    "    return recommended_images\n"
   ],
   "outputs": [],
   "execution_count": 18
  },
  {
   "cell_type": "code",
   "metadata": {
    "ExecuteTime": {
     "end_time": "2024-05-05T04:45:51.578751Z",
     "start_time": "2024-05-05T04:45:50.726907Z"
    }
   },
   "source": [
    "import matplotlib.pyplot as plt\n",
    "\n",
    "def show_images(input_image, recommended_images):\n",
    "    \"\"\"\n",
    "    Muestra la imagen de entrada junto con las imágenes recomendadas.\n",
    "    \n",
    "    Args:\n",
    "    - input_image: Imagen de entrada (array numpy).\n",
    "    - recommended_images: Lista de imágenes recomendadas (arrays numpy).\n",
    "    \"\"\"\n",
    "    num_images = len(recommended_images) + 1  # Número total de imágenes a mostrar (entrada + recomendadas)\n",
    "    \n",
    "    # Configurar la visualización en Matplotlib\n",
    "    plt.figure(figsize=(15, 5))\n",
    "\n",
    "    # Mostrar la imagen de entrada\n",
    "    plt.subplot(1, num_images, 1)\n",
    "    plt.imshow(input_image)\n",
    "    plt.title('Input Image')\n",
    "    plt.axis('off')\n",
    "\n",
    "    # Mostrar las imágenes recomendadas\n",
    "    for i in range(len(recommended_images)):\n",
    "        plt.subplot(1, num_images, i + 2)\n",
    "        plt.imshow(recommended_images[i])\n",
    "        plt.title(f'Recommended {i + 1}')\n",
    "        plt.axis('off')\n",
    "\n",
    "    plt.tight_layout()\n",
    "    plt.show()\n"
   ],
   "outputs": [],
   "execution_count": 19
  },
  {
   "cell_type": "code",
   "metadata": {
    "ExecuteTime": {
     "end_time": "2024-05-05T04:47:15.614732Z",
     "start_time": "2024-05-05T04:47:15.594005Z"
    }
   },
   "source": [
    "import pickle\n",
    "\n",
    "# image_path = \"../cluster_images/580_0.jpg\"\n",
    "# \n",
    "# input_image = Image.open(image_path).convert(\"RGB\")\n",
    "# \n",
    "# r = recommend_similar_images(net, image_path, embeddings, kmeans)\n",
    "\n",
    "# show_images(input_image, r)\n",
    "\n",
    "with open(\"kmeans.pkl\", \"wb\") as f:\n",
    "    pickle.dump(kmeans, f)\n",
    "    \n",
    "with open(\"pca.pkl\", \"wb\") as f:\n",
    "    pickle.dump(net.pca, f)\n",
    "\n",
    "with open(\"embeddings.pkl\", \"wb\") as f:\n",
    "    pickle.dump(embeddings, f)  \n",
    "    "
   ],
   "outputs": [],
   "execution_count": 23
  },
  {
   "cell_type": "code",
   "metadata": {},
   "source": [
    "input_image.show()"
   ],
   "outputs": [],
   "execution_count": null
  },
  {
   "metadata": {},
   "cell_type": "code",
   "source": "",
   "outputs": [],
   "execution_count": null
  },
  {
   "cell_type": "code",
   "metadata": {},
   "source": [
    "/Users/alexdopico/HackUPC24/final_images/5208_0.jpg"
   ],
   "outputs": [],
   "execution_count": null
  }
 ],
 "metadata": {
  "kernelspec": {
   "display_name": "CV2",
   "language": "python",
   "name": "python3"
  },
  "language_info": {
   "codemirror_mode": {
    "name": "ipython",
    "version": 3
   },
   "file_extension": ".py",
   "mimetype": "text/x-python",
   "name": "python",
   "nbconvert_exporter": "python",
   "pygments_lexer": "ipython3",
   "version": "3.11.9"
  }
 },
 "nbformat": 4,
 "nbformat_minor": 2
}
